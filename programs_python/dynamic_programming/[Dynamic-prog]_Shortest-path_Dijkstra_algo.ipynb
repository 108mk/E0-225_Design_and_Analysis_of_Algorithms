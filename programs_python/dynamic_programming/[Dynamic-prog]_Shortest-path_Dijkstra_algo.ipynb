{
 "cells": [
  {
   "cell_type": "markdown",
   "id": "6cabda10",
   "metadata": {},
   "source": [
    "# Shortest path in a weighted graph\n",
    "## Priority Queue data structure in use"
   ]
  },
  {
   "cell_type": "code",
   "execution_count": 1,
   "id": "40ea49cc",
   "metadata": {},
   "outputs": [],
   "source": [
    "import heapq\n"
   ]
  },
  {
   "cell_type": "code",
   "execution_count": 2,
   "id": "77767eb3",
   "metadata": {},
   "outputs": [],
   "source": [
    "class Graph:\n",
    "  def __init__(self, vertices):\n",
    "    self.vertices = vertices\n",
    "    self.adjacency_list = {}\n",
    "    for vertex in vertices:\n",
    "      self.adjacency_list[vertex] = []\n",
    "\n",
    "  def add_edge(self, source, destination, weight):\n",
    "    self.adjacency_list[source].append((destination, weight))\n",
    "\n",
    "  def dijkstra(self, source):\n",
    "    \"\"\"Computes the shortest paths from the source vertex to all other vertices in the graph.\n",
    "\n",
    "    Args:\n",
    "      source: The source vertex.\n",
    "\n",
    "    Returns:\n",
    "      A dictionary mapping each vertex to its shortest distance from the source vertex.\n",
    "    \"\"\"\n",
    "\n",
    "    distances = {}\n",
    "    for vertex in self.vertices:\n",
    "      distances[vertex] = float('inf')\n",
    "    distances[source] = 0\n",
    "\n",
    "    queue = [(0, source)]\n",
    "    while queue:\n",
    "      distance, vertex = heapq.heappop(queue)\n",
    "\n",
    "      for neighbor, weight in self.adjacency_list[vertex]:\n",
    "        new_distance = distance + weight\n",
    "        if new_distance < distances[neighbor]:\n",
    "          distances[neighbor] = new_distance\n",
    "          heapq.heappush(queue, (new_distance, neighbor))\n",
    "\n",
    "    return distances"
   ]
  },
  {
   "cell_type": "code",
   "execution_count": 3,
   "id": "7208f9e5",
   "metadata": {},
   "outputs": [],
   "source": [
    "# Example usage:\n",
    "\n",
    "graph = Graph(['A', 'B', 'C', 'D', 'E'])\n",
    "graph.add_edge('A', 'B', 10)\n",
    "graph.add_edge('A', 'C', 3)\n",
    "graph.add_edge('B', 'C', 1)\n",
    "graph.add_edge('B', 'D', 2)\n",
    "graph.add_edge('C', 'D', 4)\n",
    "graph.add_edge('C', 'E', 5)\n",
    "graph.add_edge('D', 'E', 3)"
   ]
  },
  {
   "cell_type": "code",
   "execution_count": 4,
   "id": "b13100a3",
   "metadata": {},
   "outputs": [
    {
     "name": "stdout",
     "output_type": "stream",
     "text": [
      "{'A': 0, 'B': 10, 'C': 3, 'D': 7, 'E': 8}\n"
     ]
    }
   ],
   "source": [
    "distances = graph.dijkstra('A')\n",
    "\n",
    "print(distances)"
   ]
  },
  {
   "cell_type": "code",
   "execution_count": null,
   "id": "1f2fb18d",
   "metadata": {},
   "outputs": [],
   "source": []
  },
  {
   "cell_type": "code",
   "execution_count": null,
   "id": "85c8b168",
   "metadata": {},
   "outputs": [],
   "source": []
  }
 ],
 "metadata": {
  "kernelspec": {
   "display_name": "Python 3 (ipykernel)",
   "language": "python",
   "name": "python3"
  },
  "language_info": {
   "codemirror_mode": {
    "name": "ipython",
    "version": 3
   },
   "file_extension": ".py",
   "mimetype": "text/x-python",
   "name": "python",
   "nbconvert_exporter": "python",
   "pygments_lexer": "ipython3",
   "version": "3.10.9"
  }
 },
 "nbformat": 4,
 "nbformat_minor": 5
}
