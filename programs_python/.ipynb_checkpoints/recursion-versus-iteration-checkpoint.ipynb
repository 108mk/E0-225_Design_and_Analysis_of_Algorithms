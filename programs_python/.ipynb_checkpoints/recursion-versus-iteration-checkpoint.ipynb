{
 "cells": [
  {
   "cell_type": "markdown",
   "id": "d2eed108",
   "metadata": {},
   "source": [
    "# Setsum via iteration"
   ]
  },
  {
   "cell_type": "code",
   "execution_count": 1,
   "id": "34c72f75",
   "metadata": {},
   "outputs": [],
   "source": [
    "def listsum(numList):\n",
    "    theSum = 0\n",
    "    for i in numList:\n",
    "        theSum = theSum + i\n",
    "    return theSum"
   ]
  },
  {
   "cell_type": "code",
   "execution_count": 2,
   "id": "9ee83b8d",
   "metadata": {},
   "outputs": [
    {
     "name": "stdout",
     "output_type": "stream",
     "text": [
      "25\n"
     ]
    }
   ],
   "source": [
    "print(listsum([1,3,5,7,9]))"
   ]
  },
  {
   "cell_type": "markdown",
   "id": "89e50144",
   "metadata": {},
   "source": [
    "# Setsum via recursion"
   ]
  },
  {
   "cell_type": "code",
   "execution_count": 3,
   "id": "c290a72e",
   "metadata": {},
   "outputs": [],
   "source": [
    "def listsum(numList):\n",
    "   if len(numList) == 1:\n",
    "        return numList[0]  # Base case\n",
    "   else:\n",
    "        return numList[0] + listsum(numList[1:]) "
   ]
  },
  {
   "cell_type": "code",
   "execution_count": 4,
   "id": "b3c3e255",
   "metadata": {},
   "outputs": [
    {
     "name": "stdout",
     "output_type": "stream",
     "text": [
      "25\n"
     ]
    }
   ],
   "source": [
    "print(listsum([1,3,5,7,9]))"
   ]
  },
  {
   "cell_type": "code",
   "execution_count": 8,
   "id": "1ded9070",
   "metadata": {},
   "outputs": [],
   "source": [
    "import time\n"
   ]
  },
  {
   "cell_type": "code",
   "execution_count": 5,
   "id": "6c422466",
   "metadata": {},
   "outputs": [],
   "source": [
    "# recursive factorial calculation\n",
    "def fact(n):\n",
    "   if n == 0:\n",
    "        return 1  # Base case\n",
    "   else:\n",
    "        return n * fact(n-1)\n",
    "    "
   ]
  },
  {
   "cell_type": "code",
   "execution_count": 10,
   "id": "530e939e",
   "metadata": {},
   "outputs": [
    {
     "name": "stdout",
     "output_type": "stream",
     "text": [
      "24\n",
      "time_elapsed: 0.0005879402160644531 seconds\n"
     ]
    }
   ],
   "source": [
    "start = time.time()\n",
    "\n",
    "print(fact(4))\n",
    "\n",
    "end = time.time()\n",
    "print('time_elapsed:', end - start, 'seconds')"
   ]
  },
  {
   "cell_type": "code",
   "execution_count": 27,
   "id": "22b11063",
   "metadata": {},
   "outputs": [],
   "source": [
    "# Dynamic programming: factorial calculation\n",
    "# My attempt\n",
    "\n",
    "n=5\n",
    "\n",
    "import numpy as np\n",
    "fib=np.zeros(n)\n"
   ]
  },
  {
   "cell_type": "code",
   "execution_count": 34,
   "id": "7a801ba1",
   "metadata": {},
   "outputs": [],
   "source": [
    "for i in range(2,5):\n",
    "    fib[0]=1 # Base case\n",
    "    fib[1]=1 # Base case \n",
    "    \n",
    "    fib[i] = fib[i-1] + fib[i-2]  # Memoization"
   ]
  },
  {
   "cell_type": "code",
   "execution_count": 35,
   "id": "20e09f6a",
   "metadata": {},
   "outputs": [
    {
     "data": {
      "text/plain": [
       "array([1., 1., 2., 3., 5.])"
      ]
     },
     "execution_count": 35,
     "metadata": {},
     "output_type": "execute_result"
    }
   ],
   "source": [
    "fib"
   ]
  },
  {
   "cell_type": "code",
   "execution_count": 38,
   "id": "2f6f33a8",
   "metadata": {},
   "outputs": [],
   "source": [
    "# using Google ward\n",
    "\n",
    "def fibonacci(n):\n",
    "  \"\"\"Calculates the nth Fibonacci number using dynamic programming.\"\"\"\n",
    "\n",
    "  # Create a table to store the Fibonacci numbers that we have already calculated.\n",
    "  fib = [0] * (n + 1)\n",
    "\n",
    "  # Initialize the table with the base cases.\n",
    "  fib[0] = 0\n",
    "  fib[1] = 1\n",
    "\n",
    "  # Iterate over the table, calculating the Fibonacci numbers.\n",
    "  for i in range(2, n + 1):\n",
    "    fib[i] = fib[i - 1] + fib[i - 2]\n",
    "\n",
    "  # Return the nth Fibonacci number.\n",
    "  return fib"
   ]
  },
  {
   "cell_type": "code",
   "execution_count": 39,
   "id": "3c9cea77",
   "metadata": {},
   "outputs": [
    {
     "name": "stdout",
     "output_type": "stream",
     "text": [
      "fibonnaci table: [0, 1, 1, 2, 3, 5, 8, 13, 21, 34, 55]\n"
     ]
    }
   ],
   "source": [
    "n = 10 # input\n",
    "print('fibonnaci table:', fibonacci(n))\n"
   ]
  },
  {
   "cell_type": "code",
   "execution_count": null,
   "id": "443a6927",
   "metadata": {},
   "outputs": [],
   "source": []
  }
 ],
 "metadata": {
  "kernelspec": {
   "display_name": "Python 3 (ipykernel)",
   "language": "python",
   "name": "python3"
  },
  "language_info": {
   "codemirror_mode": {
    "name": "ipython",
    "version": 3
   },
   "file_extension": ".py",
   "mimetype": "text/x-python",
   "name": "python",
   "nbconvert_exporter": "python",
   "pygments_lexer": "ipython3",
   "version": "3.10.9"
  }
 },
 "nbformat": 4,
 "nbformat_minor": 5
}
