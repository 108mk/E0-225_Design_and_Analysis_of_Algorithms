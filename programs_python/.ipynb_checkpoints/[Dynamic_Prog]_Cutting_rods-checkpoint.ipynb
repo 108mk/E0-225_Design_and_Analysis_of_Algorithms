{
 "cells": [
  {
   "cell_type": "markdown",
   "id": "cefb9b51",
   "metadata": {},
   "source": [
    "# Cutting rod to optimize profit\n",
    "\n",
    "> The algorithm works by first initializing the table with the base cases. \n",
    "\n",
    "> The base case is when the rod has length 0, in this case the maximum revenue is 0.\n",
    "\n",
    "> Next, the algorithm iterates over the table, starting from the rod with length 1. \n",
    "> For each rod length, the algorithm considers all possible cuts that can be made to the rod.\n",
    "> For each cut, the algorithm calculates the maximum revenue that can be obtained by cutting the rod at that point and selling the two resulting pieces.\n",
    "\n",
    "> The algorithm then stores the maximum of these revenues in the table entry for the rod length. \n",
    "\n",
    "## Optimal Subproblem : profit[n] = profit[n-1] + [i] ; iterate over all 'i' and take the maximum value"
   ]
  },
  {
   "cell_type": "code",
   "execution_count": 13,
   "id": "ff275863",
   "metadata": {},
   "outputs": [],
   "source": [
    "# A Dynamic Programming solution for Rod cutting problem\n",
    "INT_MIN = -32767\n",
    "\n",
    "\n",
    "# INPUT: price[]--> an list for prices of different pieces\n",
    "# OUTPUT: Returns the best obtainable price for a rod of length n\n",
    "\n",
    "def cutRod(price):\n",
    "    n = len(price) # length of the rod\n",
    "    \n",
    "    val = [0 for x in range(n+1)]  # MEMOIZATION table of subproblem optimal prizes\n",
    "    val[0] = 0 # base case\n",
    "\n",
    "    # Build the table val[] in bottom up manner and return\n",
    "    # the last entry from the table\n",
    "    for i in range(1, n+1):\n",
    "        max_val = INT_MIN\n",
    "        for j in range(i):\n",
    "            max_val = max(max_val, price[j] + val[i-j-1]) # iterative building up of the memo\n",
    "        val[i] = max_val\n",
    "\n",
    "    return val[n]\n"
   ]
  },
  {
   "cell_type": "code",
   "execution_count": 16,
   "id": "a1e81ad3",
   "metadata": {},
   "outputs": [
    {
     "name": "stdout",
     "output_type": "stream",
     "text": [
      "Maximum Obtainable Value is: 80\n"
     ]
    }
   ],
   "source": [
    "# Driver program to test above functions\n",
    "arr = [10, 9, 8, 7, 6, 5, 4, 3]\n",
    "\n",
    "print(\"Maximum Obtainable Value is:\", str(cutRod(arr)))"
   ]
  },
  {
   "cell_type": "code",
   "execution_count": null,
   "id": "5748119c",
   "metadata": {},
   "outputs": [],
   "source": []
  },
  {
   "cell_type": "code",
   "execution_count": null,
   "id": "f2e8a0ee",
   "metadata": {},
   "outputs": [],
   "source": []
  },
  {
   "cell_type": "code",
   "execution_count": null,
   "id": "d6eb630a",
   "metadata": {},
   "outputs": [],
   "source": []
  },
  {
   "cell_type": "code",
   "execution_count": null,
   "id": "f7ddc53b",
   "metadata": {},
   "outputs": [],
   "source": []
  }
 ],
 "metadata": {
  "kernelspec": {
   "display_name": "Python 3 (ipykernel)",
   "language": "python",
   "name": "python3"
  },
  "language_info": {
   "codemirror_mode": {
    "name": "ipython",
    "version": 3
   },
   "file_extension": ".py",
   "mimetype": "text/x-python",
   "name": "python",
   "nbconvert_exporter": "python",
   "pygments_lexer": "ipython3",
   "version": "3.10.9"
  }
 },
 "nbformat": 4,
 "nbformat_minor": 5
}
